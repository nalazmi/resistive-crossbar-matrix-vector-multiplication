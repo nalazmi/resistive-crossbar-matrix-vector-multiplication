{
  "cells": [
    {
      "cell_type": "markdown",
      "metadata": {
        "id": "yg37uMUdrQbT"
      },
      "source": [
        "# Challenge #20: Crossbar Matrix-Vector Multiplication\n",
        "\n",
        "**Objective**: Simulate a 4x4 resistive crossbar in SPICE and verify matrix-vector multiplication using output currents.\n",
        "\n",
        "**Steps**:\n",
        "1. Define input voltage vector and weight matrix.\n",
        "2. Convert weights to resistances (Ohm's Law).\n",
        "3. Auto-generate SPICE code.\n",
        "4. Use any SPICE simulator to verify the current output represents matrix-vector product.\n"
      ],
      "id": "yg37uMUdrQbT"
    },
    {
      "cell_type": "markdown",
      "source": [
        "# SPICE Code for 4x4 Resistive Crossbar\n",
        "\n",
        "Below is the SPICE code to simulate a 4x4 resistive crossbar network, with fixed resistances.\n",
        "\n",
        "```spice\n",
        "* Resistive Crossbar Simulation for 4x4 Matrix-Vector Multiplication\n",
        "\n",
        "* Node Definitions for 4x4 Crossbar\n",
        "* Rows are R1, R2, R3, R4 (weights of the matrix)\n",
        "* Columns are C1, C2, C3, C4 (input vectors)\n",
        "\n",
        "* Resistor network for 4x4 crossbar with resistances R1 to R16\n",
        "R11 1 2 10k\n",
        "R12 1 3 10k\n",
        "R13 1 4 10k\n",
        "R14 1 5 10k\n",
        "R21 2 3 10k\n",
        "R22 2 4 10k\n",
        "R23 2 5 10k\n",
        "R24 2 6 10k\n",
        "R31 3 4 10k\n",
        "R32 3 5 10k\n",
        "R33 3 6 10k\n",
        "R34 3 7 10k\n",
        "R41 4 5 10k\n",
        "R42 4 6 10k\n",
        "R43 4 7 10k\n",
        "R44 4 8 10k\n",
        "\n",
        "* Voltage sources for input vector\n",
        "V1 9 0 DC 1V\n",
        "V2 10 0 DC 2V\n",
        "V3 11 0 DC 3V\n",
        "V4 12 0 DC 4V\n",
        "\n",
        "* Define the output nodes for current measurement\n",
        "Iout1 13 0 DC 0\n",
        "Iout2 14 0 DC 0\n",
        "Iout3 15 0 DC 0\n",
        "Iout4 16 0 DC 0\n",
        "\n",
        "* Simulation commands\n",
        ".tran 1ms 10ms\n",
        ".end\n"
      ],
      "metadata": {
        "id": "jiS7HzmktrY0"
      },
      "id": "jiS7HzmktrY0"
    },
    {
      "cell_type": "markdown",
      "source": [
        "\n",
        "---\n",
        "\n",
        "### **Explanation of Matrix-Vector Multiplication in Crossbar**\n",
        "\n",
        "\n",
        "# Explanation of Matrix-Vector Multiplication in the Crossbar\n",
        "\n",
        "In a resistive crossbar, the multiplication of a weight matrix \\( W \\) (4x4) and an input vector \\( V \\) (4x1) is achieved through Ohm's law.\n",
        "\n",
        "The voltage applied to the inputs results in current through the crossbar, where the resistances at each intersection represent the weight of the corresponding element in the matrix.\n",
        "\n",
        "The output currents can be calculated by the formula:\n",
        "\n",
        "\\[\n",
        "I_{\\text{out}} = W \\cdot V\n",
        "\\]\n",
        "\n",
        "Where:\n",
        "- \\( W \\) is the 4x4 weight matrix (resistances at each intersection).\n",
        "- \\( V \\) is the 4x1 input vector (voltages applied to the rows).\n",
        "- \\( I_{\\text{out}} \\) is the 4x1 output current vector (the result of matrix-vector multiplication).\n",
        "\n",
        "Each output current will represent the result of one row of the matrix multiplied by the input vector.\n"
      ],
      "metadata": {
        "id": "lSeqerHStE0R"
      },
      "id": "lSeqerHStE0R"
    },
    {
      "cell_type": "code",
      "source": [
        "import numpy as np\n",
        "\n",
        "V = np.array([1, 0.5, 0, 0])\n",
        "G = np.array([\n",
        "    [1, 0.5, 1/3, 0.25],\n",
        "    [1, 0.5, 1/3, 0.25],\n",
        "    [1, 0.5, 1/3, 0.25],\n",
        "    [1, 0.5, 1/3, 0.25],\n",
        "])\n",
        "\n",
        "I = V @ G  # Matrix-vector product\n",
        "print(\"Output currents:\", I)  # In mA if resistors are in kOhms\n"
      ],
      "metadata": {
        "colab": {
          "base_uri": "https://localhost:8080/"
        },
        "id": "NXy11gSQrZ-o",
        "outputId": "c904f7ab-dcc8-4dff-97fe-04ae1b6abed0"
      },
      "id": "NXy11gSQrZ-o",
      "execution_count": 3,
      "outputs": [
        {
          "output_type": "stream",
          "name": "stdout",
          "text": [
            "Output currents: [1.5   0.75  0.5   0.375]\n"
          ]
        }
      ]
    },
    {
      "cell_type": "code",
      "execution_count": 1,
      "metadata": {
        "id": "WRWLncTsrQbY"
      },
      "outputs": [],
      "source": [
        "# Step 1: Define input vector and weight matrix\n",
        "import numpy as np\n",
        "\n",
        "input_vector = np.array([1.0, 0.5, 0.0, 0.0])  # 4x1 input vector\n",
        "weight_matrix = np.array([                   # 4x4 weight matrix (in conductance)\n",
        "    [1, 0.5, 1/3, 0.25],\n",
        "    [1, 0.5, 1/3, 0.25],\n",
        "    [1, 0.5, 1/3, 0.25],\n",
        "    [1, 0.5, 1/3, 0.25]\n",
        "])\n",
        "\n",
        "# Convert weights (conductance) to resistances in kilo-ohms\n",
        "res_matrix = np.round(1 / weight_matrix, 3)  # in kilo-ohms (kΩ)"
      ],
      "id": "WRWLncTsrQbY"
    },
    {
      "cell_type": "markdown",
      "source": [
        "# Demonstrating Matrix-Vector Multiplication\n",
        "\n",
        "After running the SPICE simulation, we will observe the output currents, which correspond to the product of the weight matrix and the input vector.\n",
        "\n",
        "Given the 4x4 resistive crossbar setup, with:\n",
        "- Weight matrix \\( W \\):\n",
        "\\[\n",
        "W = \\begin{pmatrix}\n",
        "R11 & R12 & R13 & R14 \\\\\n",
        "R21 & R22 & R23 & R24 \\\\\n",
        "R31 & R32 & R33 & R34 \\\\\n",
        "R41 & R42 & R43 & R44\n",
        "\\end{pmatrix}\n",
        "\\]\n",
        "\n",
        "- Input vector \\( V = \\begin{pmatrix} V1 \\\\ V2 \\\\ V3 \\\\ V4 \\end{pmatrix} \\)\n",
        "\n",
        "We will demonstrate that the resulting output currents \\( I_{\\text{out}} \\) match the expected result of matrix-vector multiplication:\n",
        "\n",
        "\\[\n",
        "I_{\\text{out}} = W \\cdot V\n",
        "\\]\n",
        "\n",
        "This verification will be done by checking the output currents in the SPICE simulation results and ensuring they correspond to the matrix-vector product.\n"
      ],
      "metadata": {
        "id": "4Ct-uVG9uBaN"
      },
      "id": "4Ct-uVG9uBaN"
    },
    {
      "cell_type": "code",
      "execution_count": 2,
      "metadata": {
        "colab": {
          "base_uri": "https://localhost:8080/"
        },
        "id": "AR_hdBtorQbZ",
        "outputId": "56e5526a-51e3-4b7a-8759-37fafdced9b4"
      },
      "outputs": [
        {
          "output_type": "stream",
          "name": "stdout",
          "text": [
            "* Auto-generated SPICE code for 4x4 resistive crossbar\n",
            "V1 N1 0 DC 1.0\n",
            "V2 N2 0 DC 0.5\n",
            "V3 N3 0 DC 0.0\n",
            "V4 N4 0 DC 0.0\n",
            "R11 N1 X1 1.0k\n",
            "R12 N1 X2 2.0k\n",
            "R13 N1 X3 3.0k\n",
            "R14 N1 X4 4.0k\n",
            "R21 N2 X1 1.0k\n",
            "R22 N2 X2 2.0k\n",
            "R23 N2 X3 3.0k\n",
            "R24 N2 X4 4.0k\n",
            "R31 N3 X1 1.0k\n",
            "R32 N3 X2 2.0k\n",
            "R33 N3 X3 3.0k\n",
            "R34 N3 X4 4.0k\n",
            "R41 N4 X1 1.0k\n",
            "R42 N4 X2 2.0k\n",
            "R43 N4 X3 3.0k\n",
            "R44 N4 X4 4.0k\n",
            "Rout1 X1 0 1\n",
            "Rout2 X2 0 1\n",
            "Rout3 X3 0 1\n",
            "Rout4 X4 0 1\n",
            ".OP\n",
            ".END\n"
          ]
        }
      ],
      "source": [
        "# Step 2: Generate SPICE netlist\n",
        "spice_lines = [\"* Auto-generated SPICE code for 4x4 resistive crossbar\"]\n",
        "\n",
        "# Define input voltage sources\n",
        "for i, v in enumerate(input_vector, start=1):\n",
        "    spice_lines.append(f\"V{i} N{i} 0 DC {v}\")\n",
        "\n",
        "# Define crossbar resistors\n",
        "for i in range(4):\n",
        "    for j in range(4):\n",
        "        resistance = res_matrix[i][j]\n",
        "        spice_lines.append(f\"R{i+1}{j+1} N{i+1} X{j+1} {resistance}k\")\n",
        "\n",
        "# Define output sensing resistors (to ground)\n",
        "for j in range(4):\n",
        "    spice_lines.append(f\"Rout{j+1} X{j+1} 0 1\")\n",
        "\n",
        "# Add simulation command\n",
        "spice_lines.append(\".OP\")\n",
        "spice_lines.append(\".END\")\n",
        "\n",
        "# Join into full SPICE netlist\n",
        "spice_code = \"\\n\".join(spice_lines)\n",
        "print(spice_code)"
      ],
      "id": "AR_hdBtorQbZ"
    },
    {
      "cell_type": "markdown",
      "source": [
        "# Conclusion\n",
        "\n",
        "In this challenge, we simulated a 4x4 resistive crossbar using SPICE to perform matrix-vector multiplication. The SPICE code was structured to model the resistive crossbar network, where resistances at each intersection of the matrix represented the weights, and the voltages applied to the rows acted as the input vector.\n",
        "\n",
        "After running the simulation, we observed the output currents, which corresponded to the product of the weight matrix and the input vector. This verified that the resistive crossbar effectively implements matrix-vector multiplication, as expected.\n",
        "\n",
        "The exercise demonstrated the potential of resistive crossbars in hardware-based matrix computations, which could be relevant for neuromorphic computing or hardware accelerators. The methodology used in this simulation forms the basis for more complex computations in hardware, and the ability to carry out matrix operations efficiently is a key feature of these systems.\n"
      ],
      "metadata": {
        "id": "GvEvyCHguio1"
      },
      "id": "GvEvyCHguio1"
    },
    {
      "cell_type": "code",
      "source": [],
      "metadata": {
        "id": "OUcSaktvujkk"
      },
      "id": "OUcSaktvujkk",
      "execution_count": null,
      "outputs": []
    }
  ],
  "metadata": {
    "kernelspec": {
      "display_name": "Python 3",
      "language": "python",
      "name": "python3"
    },
    "language_info": {
      "name": "python",
      "version": "3.x"
    },
    "colab": {
      "provenance": []
    }
  },
  "nbformat": 4,
  "nbformat_minor": 5
}